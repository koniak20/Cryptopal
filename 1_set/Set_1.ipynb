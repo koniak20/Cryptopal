{
 "cells": [
  {
   "cell_type": "markdown",
   "id": "a441cdeb",
   "metadata": {},
   "source": [
    "# Zestaw 1\n"
   ]
  },
  {
   "cell_type": "markdown",
   "id": "ea44dd25",
   "metadata": {},
   "source": [
    "### Zadanie 1\n",
    "\n",
    "Polega na zamianie tekstu zakodowanego w hex (systemie szesnastkowym) na kodowanie base64 \\\n",
    "Przykład:\n"
   ]
  },
  {
   "cell_type": "code",
   "execution_count": 8,
   "id": "3e5da900",
   "metadata": {},
   "outputs": [],
   "source": [
    "data = \"49276d206b696c6c696e6720796f757220627261696e206c696b65206120706f69736f6e6f7573206d757368726f6f6d\""
   ]
  },
  {
   "cell_type": "markdown",
   "id": "b32703af",
   "metadata": {},
   "source": [
    "Powinien zwrócić:\\\n",
    "**SSdtIGtpbGxpbmcgeW91ciBicmFpbiBsaWtlIGEgcG9pc29ub3VzIG11c2hyb29t**"
   ]
  },
  {
   "cell_type": "code",
   "execution_count": 9,
   "id": "6638bc79",
   "metadata": {},
   "outputs": [
    {
     "name": "stdout",
     "output_type": "stream",
     "text": [
      "SSdtIGtpbGxpbmcgeW91ciBicmFpbiBsaWtlIGEgcG9pc29ub3VzIG11c2hyb29t\n"
     ]
    }
   ],
   "source": [
    "def hex_to_base64(text):\n",
    "    return b64encode(bytes.fromhex(text)).decode()\n",
    "def base64_to_hex(text):\n",
    "    return b64decode(text.encode()).hex()\n",
    "print(hex_to_base64(data))"
   ]
  },
  {
   "cell_type": "markdown",
   "id": "d51edd1c",
   "metadata": {},
   "source": [
    "### Zadanie 2\n",
    "\n",
    "Napisz funkcję xorująca napisy o tej samej długości"
   ]
  },
  {
   "cell_type": "code",
   "execution_count": 20,
   "id": "da71c265",
   "metadata": {},
   "outputs": [
    {
     "name": "stdout",
     "output_type": "stream",
     "text": [
      "the kid don't play\n"
     ]
    }
   ],
   "source": [
    "def xor(first: bytes, second: bytes) -> bytes:\n",
    "    result = bytearray(len(first))\n",
    "    for ind,(x,y) in enumerate(list(zip(first,second))):\n",
    "        result[ind] = x ^ y\n",
    "    return result\n",
    "example1 = bytes.fromhex(\"1c0111001f010100061a024b53535009181c\") \n",
    "example2 = bytes.fromhex(\"686974207468652062756c6c277320657965\")\n",
    "\n",
    "print(xor(example1,example2).decode())"
   ]
  },
  {
   "cell_type": "markdown",
   "id": "b7879c19",
   "metadata": {},
   "source": [
    "### Zadanie 3\n",
    "\n",
    "Dostaliśmy informacje, że nasz szyfrogram to tekst zxorowany z jednym znakiem:"
   ]
  },
  {
   "cell_type": "code",
   "execution_count": 33,
   "id": "a9112c98",
   "metadata": {},
   "outputs": [],
   "source": [
    "ciphertext = \"1b37373331363f78151b7f2b783431333d78397828372d363c78373e783a393b3736\"\n",
    "ciphertext = bytes.fromhex(ciphertext)"
   ]
  },
  {
   "cell_type": "markdown",
   "id": "3aacaed6",
   "metadata": {},
   "source": [
    "W dalszej części zadań, będę używać implementacji xora z pwntools"
   ]
  },
  {
   "cell_type": "code",
   "execution_count": 30,
   "id": "76a09029",
   "metadata": {},
   "outputs": [],
   "source": [
    "from pwn import xor"
   ]
  },
  {
   "cell_type": "markdown",
   "id": "16b132ed",
   "metadata": {},
   "source": [
    "Teraz wystarczy, że sprawdzimy nasz szyfrogram z każdym możliwym znakiem. \\\n",
    "By nie przeglądać możliwych tekstów jawnych ręcznie, potrzebujemy funkcji, która będzie oceniała na ile dobry jest wynik.\n"
   ]
  },
  {
   "cell_type": "code",
   "execution_count": 45,
   "id": "30f086d6",
   "metadata": {},
   "outputs": [],
   "source": [
    "freq = { ' ' : 1, 'e' : 1.3, 'E': 1.3, 'T' : 0.91, 't' : 0.91, 'A' : 0.82, 'a' : 0.82, 'O' : 0.75, 'o': 0.75,\n",
    "         'I' : 0.7, 'i': 0.7,'N' : 0.67, 'n':0.67,'S' : 0.63, 's': 0.63, 'H' : 0.61, 'h': 0.61, 'R' : 0.6,\n",
    "         'r': 0.6, 'D' : 0.43, 'd':0.43,'L' : 0.4 , 'l': 0.4 ,    'C' : 0.28 , 'c': 0.28 ,'U' : 0.28 , 'u': 0.28 ,\n",
    "         'M' : 0.24 , 'm': 0.24 ,'W' : 0.24 , 'w': 0.24 , 'F' : 0.22 , 'f': 0.22 ,'G' : 0.2 , 'g': 0.2 ,\n",
    "         'Y' : 0.2 , 'y': 0.2, 'P' : 0.19 , 'p': 0.19, 'B' : 0.15, 'b':0.15, 'V' : 0.098, 'v' : 0.098, 'K' : 0.077,\n",
    "         'k' : 0.077, 'X' : 0.015, 'J': 0.015}\n",
    "alphabet = b'ABCDEFGHIJKLMNOPRSTUVWXY ' \n",
    "\n",
    "def getScore(text):\n",
    "    score = 0\n",
    "    text = text.upper()\n",
    "    length = len(text)\n",
    "    if length == 0:\n",
    "        return 0\n",
    "    for letter in alphabet:\n",
    "        score += round(10*freq[chr(letter)] *(text.count(letter)/length),3)\n",
    "    return round(score,2)"
   ]
  },
  {
   "cell_type": "code",
   "execution_count": 62,
   "id": "9a726b0c",
   "metadata": {},
   "outputs": [
    {
     "name": "stdout",
     "output_type": "stream",
     "text": [
      "1 opcja to Cooking MC's like a pound of bacon\n",
      "2 opcja to Ieeacdm*GI-y*fcao*k*zedn*el*hkied\n",
      "3 opcja to Bnnjhof!LB&r!mhjd!`!qntoe!ng!c`bno\n"
     ]
    }
   ],
   "source": [
    "plaintexts = []\n",
    "for character in range(ord('A'),ord('Z')):\n",
    "    possible_plaintext = xor(character, ciphertext)\n",
    "    plaintexts.append((getScore(possible_plaintext),possible_plaintext))\n",
    "plaintexts = sorted(plaintexts, reverse=True)\n",
    "for ind,(_,option) in enumerate(plaintexts[:3],1):\n",
    "    print(f\"{ind} opcja to {option.decode()}\")"
   ]
  },
  {
   "cell_type": "markdown",
   "id": "035c74bb",
   "metadata": {},
   "source": [
    "Funkcja, która przyda się do nastepnej części. Zwraca jedynie jeden najbardziej prawdopodobny napis."
   ]
  },
  {
   "cell_type": "code",
   "execution_count": 67,
   "id": "29f2e270",
   "metadata": {},
   "outputs": [],
   "source": [
    "def DecryptSingleByte(ciphertext: str) -> tuple:\n",
    "    plaintexts = []\n",
    "    for character in range(128):\n",
    "        possible_plaintext = xor(character, ciphertext)\n",
    "        plaintexts.append((getScore(possible_plaintext),possible_plaintext))\n",
    "    plaintexts = sorted(plaintexts, reverse=True)\n",
    "    return plaintexts[0]"
   ]
  },
  {
   "cell_type": "code",
   "execution_count": null,
   "id": "80cc411e",
   "metadata": {},
   "outputs": [],
   "source": []
  }
 ],
 "metadata": {
  "kernelspec": {
   "display_name": "Python 3 (ipykernel)",
   "language": "python",
   "name": "python3"
  },
  "language_info": {
   "codemirror_mode": {
    "name": "ipython",
    "version": 3
   },
   "file_extension": ".py",
   "mimetype": "text/x-python",
   "name": "python",
   "nbconvert_exporter": "python",
   "pygments_lexer": "ipython3",
   "version": "3.10.8"
  }
 },
 "nbformat": 4,
 "nbformat_minor": 5
}

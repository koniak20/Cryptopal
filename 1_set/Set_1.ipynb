{
 "cells": [
  {
   "cell_type": "markdown",
   "id": "a441cdeb",
   "metadata": {},
   "source": [
    "# Zestaw 1\n"
   ]
  },
  {
   "cell_type": "markdown",
   "id": "ea44dd25",
   "metadata": {},
   "source": [
    "## hex do base64\n",
    "### [zadanie 1](https://cryptopals.com/sets/1/challenges/1)\n",
    "\n",
    "\n",
    "Polega na zamianie tekstu zakodowanego w [hex](https://www.freecodecamp.org/news/hexadecimal-number-system/) (systemie szesnastkowym) na kodowanie [base64](https://www.base64encoder.io/learn/). \\\n",
    "Przykład:\n"
   ]
  },
  {
   "cell_type": "code",
   "execution_count": 135,
   "id": "3e5da900",
   "metadata": {},
   "outputs": [],
   "source": [
    "data = \"49276d206b696c6c696e6720796f757220627261696e206c696b65206120706f69736f6e6f7573206d757368726f6f6d\""
   ]
  },
  {
   "cell_type": "markdown",
   "id": "b32703af",
   "metadata": {},
   "source": [
    "Powinien zwrócić:\\\n",
    "**SSdtIGtpbGxpbmcgeW91ciBicmFpbiBsaWtlIGEgcG9pc29ub3VzIG11c2hyb29t**"
   ]
  },
  {
   "cell_type": "code",
   "execution_count": 136,
   "id": "6638bc79",
   "metadata": {},
   "outputs": [
    {
     "name": "stdout",
     "output_type": "stream",
     "text": [
      "SSdtIGtpbGxpbmcgeW91ciBicmFpbiBsaWtlIGEgcG9pc29ub3VzIG11c2hyb29t\n"
     ]
    }
   ],
   "source": [
    "from base64 import b64decode,b64encode\n",
    "def hex_to_base64(text):\n",
    "    return b64encode(bytes.fromhex(text)).decode()\n",
    "def base64_to_hex(text):\n",
    "    return b64decode(text.encode()).hex()\n",
    "print(hex_to_base64(data))"
   ]
  },
  {
   "cell_type": "markdown",
   "id": "d51edd1c",
   "metadata": {},
   "source": [
    "### Zadanie 2\n",
    "\n",
    "Napisz funkcję xorująca napisy o tej samej długości"
   ]
  },
  {
   "cell_type": "code",
   "execution_count": 144,
   "id": "da71c265",
   "metadata": {},
   "outputs": [
    {
     "name": "stdout",
     "output_type": "stream",
     "text": [
      "the kid don't play\n"
     ]
    }
   ],
   "source": [
    "def xor(first: bytes, second: bytes) -> bytes:\n",
    "    result = bytearray(len(first))\n",
    "    for ind,(x,y) in enumerate(list(zip(first,second))):\n",
    "        result[ind] = x ^ y\n",
    "    return result\n",
    "example1 = bytes.fromhex(\"1c0111001f010100061a024b53535009181c\") \n",
    "example2 = bytes.fromhex(\"686974207468652062756c6c277320657965\")\n",
    "\n",
    "print(xor(example1,example2).decode())"
   ]
  },
  {
   "cell_type": "markdown",
   "id": "b7879c19",
   "metadata": {},
   "source": [
    "### Zadanie 3\n",
    "\n",
    "Dostaliśmy informacje, że nasz szyfrogram to tekst zxorowany z jednym znakiem:"
   ]
  },
  {
   "cell_type": "code",
   "execution_count": 138,
   "id": "a9112c98",
   "metadata": {},
   "outputs": [],
   "source": [
    "ciphertext = \"1b37373331363f78151b7f2b783431333d78397828372d363c78373e783a393b3736\"\n",
    "ciphertext = bytes.fromhex(ciphertext)"
   ]
  },
  {
   "cell_type": "markdown",
   "id": "16b132ed",
   "metadata": {},
   "source": [
    "Teraz wystarczy, że sprawdzimy nasz szyfrogram z każdym możliwym znakiem. \\\n",
    "By nie przeglądać możliwych tekstów jawnych ręcznie, potrzebujemy funkcji, która będzie oceniała na ile dobry jest wynik.\n"
   ]
  },
  {
   "cell_type": "code",
   "execution_count": 139,
   "id": "30f086d6",
   "metadata": {},
   "outputs": [],
   "source": [
    "freq = { ' ' : 1, 'e' : 1.3, 'E': 1.3, 'T' : 0.91, 't' : 0.91, 'A' : 0.82, 'a' : 0.82, 'O' : 0.75, 'o': 0.75,\n",
    "         'I' : 0.7, 'i': 0.7,'N' : 0.67, 'n':0.67,'S' : 0.63, 's': 0.63, 'H' : 0.61, 'h': 0.61, 'R' : 0.6,\n",
    "         'r': 0.6, 'D' : 0.43, 'd':0.43,'L' : 0.4 , 'l': 0.4 ,    'C' : 0.28 , 'c': 0.28 ,'U' : 0.28 , 'u': 0.28 ,\n",
    "         'M' : 0.24 , 'm': 0.24 ,'W' : 0.24 , 'w': 0.24 , 'F' : 0.22 , 'f': 0.22 ,'G' : 0.2 , 'g': 0.2 ,\n",
    "         'Y' : 0.2 , 'y': 0.2, 'P' : 0.19 , 'p': 0.19, 'B' : 0.15, 'b':0.15, 'V' : 0.098, 'v' : 0.098, 'K' : 0.077,\n",
    "         'k' : 0.077, 'X' : 0.015, 'J': 0.015}\n",
    "alphabet = b'ABCDEFGHIJKLMNOPRSTUVWXY ' \n",
    "\n",
    "def getScore(text):\n",
    "    score = 0\n",
    "    text = text.upper()\n",
    "    length = len(text)\n",
    "    if length == 0:\n",
    "        return 0\n",
    "    for letter in alphabet:\n",
    "        score += round(10*freq[chr(letter)] *(text.count(letter)/length),3)\n",
    "    return round(score,2)"
   ]
  },
  {
   "cell_type": "code",
   "execution_count": 167,
   "id": "9a726b0c",
   "metadata": {},
   "outputs": [
    {
     "name": "stdout",
     "output_type": "stream",
     "text": [
      "1 opcja to Cooking MC's like a pound of bacon\n",
      "2 opcja to iEEACDM\n",
      "Yi\n",
      "FCAO\n",
      "K\n",
      "ZE_DN\n",
      "EL\n",
      "HKIED\n",
      "3 opcja to Ieeacdm*GI-y*fcao*k*zedn*el*hkied\n"
     ]
    }
   ],
   "source": [
    "def xorSingleByte(byte: int, text: bytes) -> bytes:\n",
    "    return bytes(map(lambda h: h ^ byte, text))\n",
    "\n",
    "plaintexts = []\n",
    "for character in range(65,127):\n",
    "    possiblePlaintext = xorSingleByte(character, ciphertext)\n",
    "    plaintexts.append((getScore(possiblePlaintext),possiblePlaintext))\n",
    "plaintexts = sorted(plaintexts, reverse=True)\n",
    "for ind,(_,option) in enumerate(plaintexts[:3],1):\n",
    "    print(f\"{ind} opcja to {option.decode()}\")"
   ]
  },
  {
   "cell_type": "markdown",
   "id": "035c74bb",
   "metadata": {},
   "source": [
    "Funkcja, która przyda się do nastepnej części. Zwraca jedynie jeden najbardziej prawdopodobny napis."
   ]
  },
  {
   "cell_type": "code",
   "execution_count": 182,
   "id": "29f2e270",
   "metadata": {},
   "outputs": [],
   "source": [
    "def decryptSingleByte(ciphertext: str) -> tuple:\n",
    "    ciphertext = ciphertext.encode()\n",
    "    plaintexts = []\n",
    "    for character in range(128):\n",
    "        possiblePlaintext = xorSingleByte(character, ciphertext)\n",
    "        plaintexts.append((getScore(possiblePlaintext),possiblePlaintext,chr(character)))\n",
    "    plaintexts = sorted(plaintexts, reverse=True)\n",
    "    return plaintexts[0]"
   ]
  },
  {
   "cell_type": "markdown",
   "id": "8921119c",
   "metadata": {},
   "source": [
    "### Zadanie 4\n",
    "\n",
    "Zadanie podobne do wcześniejszego, jednakże mamy teraz 327 szyfrogramów, a jedynie jeden z nich jest szukanym.\n"
   ]
  },
  {
   "cell_type": "code",
   "execution_count": 176,
   "id": "18ed2b42",
   "metadata": {},
   "outputs": [
    {
     "name": "stdout",
     "output_type": "stream",
     "text": [
      "1 opcja to Now that the party is jumping\n",
      "\n",
      "2 opcja to tH\u0001uvGUEMTV\u000biEV\\sLJn\u0006\\Y#EieTV\n",
      "3 decode() nie zadziałało\n"
     ]
    }
   ],
   "source": [
    "texts = []\n",
    "text = \"\"\n",
    "with open(\"4.txt\") as file:\n",
    "    lines = file.readlines()\n",
    "    for line in lines:\n",
    "        texts.append(bytes.fromhex(line.rstrip()))\n",
    "possiblePlaintexts = []\n",
    "for ciphertext in texts:\n",
    "    possiblePlaintexts.append(decryptSingleByte(ciphertext))\n",
    "possiblePlaintexts = sorted(possiblePlaintexts, reverse=True)\n",
    "\n",
    "for ind,(_,option,_) in enumerate(possiblePlaintexts[:3],1):\n",
    "    try:\n",
    "        print(f\"{ind} opcja to {option.decode()}\")\n",
    "    except:\n",
    "        print(f\"{ind} decode() nie zadziałało\")"
   ]
  },
  {
   "cell_type": "markdown",
   "id": "12ad29b6",
   "metadata": {},
   "source": [
    "Bez problemu odnajdujemy szukany tekst jawny!\n",
    "\n",
    "### Zadanie 5\n",
    "\n",
    "Celem kolejnego zadania jest zaimplementowanie xora z powtarzającym się kluczem."
   ]
  },
  {
   "cell_type": "code",
   "execution_count": 185,
   "id": "7ebbe54b",
   "metadata": {},
   "outputs": [],
   "source": [
    "def xorRepeatingKey(text: bytes, key: bytes) -> bytes:\n",
    "    result = bytearray(len(text))\n",
    "    for i, byte in enumerate(text):\n",
    "        result[i] = byte ^ key[i % len(key)]\n",
    "    return result\n",
    "\n",
    "text = \"Burning 'em, if you ain't quick and nimble\\nI go crazy when I hear a cymbal\"\n",
    "expectedResult = \"0b3637272a2b2e63622c2e69692a23693a2a3c6324202d623d63343c2a26226324272765272a282b2f20430a652e2c652a3124333a653e2b2027630c692b20283165286326302e27282f\"\n",
    "assert xorRepeatingKey(text.encode(), b'ICE').hex() == expectedResult\n"
   ]
  },
  {
   "attachments": {},
   "cell_type": "markdown",
   "id": "4b5733cf",
   "metadata": {},
   "source": [
    "### Zadanie 6\n",
    "\n",
    "Tym razem nie znamy długości klucza, do jego znalezienia użyjemy tzw. Hamming distance (HD) - ilość różniącyh się bitów.\n",
    "\n",
    "Dla poniższego przykładu HD wynosi 4, widzimy, że obliczanie HD sprowadza się do obliczenia xora obu ciągów binarnych i zliczeniu liczby 1.\n",
    "> 0 1 0 1 1 0 1\\\n",
    "> 1 0 1 1 1 0 0\n",
    "\n",
    "\n"
   ]
  },
  {
   "attachments": {},
   "cell_type": "markdown",
   "id": "6c582ec8",
   "metadata": {},
   "source": [
    "Do czego nam się to może przydać? Zauważmy, że alfabet angielski wraz z znakami interpunkcyjnymi to wartości `65-127` w ASCII. XOR dowolonych takich znaków da nam średnio mniejszy HD niż dla dowolnych bajtów `0-255`. "
   ]
  },
  {
   "cell_type": "code",
   "execution_count": 178,
   "id": "a4955a79",
   "metadata": {},
   "outputs": [
    {
     "name": "stdout",
     "output_type": "stream",
     "text": [
      "Średni HD dla ascii 3.43\n",
      "Średni HD dla dowolnego bajtu 4.0\n"
     ]
    }
   ],
   "source": [
    "import string\n",
    "\n",
    "def hammingDistance(messageA: bytes, messageB: bytes):\n",
    "    if (type(messageA) == str):\n",
    "        messageA = messageA.encode()\n",
    "    if (type(messageB) == str):\n",
    "        messageB = messageB.encode()\n",
    "    answer = \"\".join([bin(x^y)[2:] for x,y in zip(messageA,messageB)])\n",
    "    return answer.count(\"1\")\n",
    "\n",
    "def hdASCII():\n",
    "    hd = 0\n",
    "    count = 0 \n",
    "    for i in string.printable: \n",
    "        for j in string.printable:\n",
    "            count += 1\n",
    "            hd += hammingDistance(i,j)\n",
    "    return hd/count\n",
    "def hdAllBytes():\n",
    "    hd = 0\n",
    "    count = 0\n",
    "    for i in range(0,255):\n",
    "        for j in range(0,255):\n",
    "            count += 1\n",
    "            hd += hammingDistance(chr(i),chr(j))\n",
    "    return hd/count\n",
    "print(f\"Średni HD dla ascii {round(hdASCII(),2)}\\nŚredni HD dla dowolnego bajtu {round(hdAllBytes(),2)}\")"
   ]
  },
  {
   "attachments": {},
   "cell_type": "markdown",
   "id": "72e0c497",
   "metadata": {},
   "source": [
    "Szukając długości klucza będziemy zakładać, że klucz ma długość `n` po czym będziemy xorować kolejne bloki. Dzięki temu będziemy xorować bloki z tekstem jawnym, co przy odpowiendniej długości klucza, powinno dać najmniejszy HD.\n",
    "\n",
    "$(A \\oplus K) \\oplus (B \\oplus K) = A \\oplus B $"
   ]
  },
  {
   "cell_type": "code",
   "execution_count": 179,
   "id": "b47c7a90",
   "metadata": {},
   "outputs": [],
   "source": [
    "def findKeySize(ciphertext: bytes) -> int:\n",
    "    averageDistances = []\n",
    "\n",
    "    # possibles key lengths\n",
    "    for keyLenght in range(2,40):\n",
    "        # distances in blocks\n",
    "        distances = []\n",
    "        chunks = [ciphertext[i:i+keyLenght] for i in range(0,len(ciphertext),keyLenght)]\n",
    "        for i in range(0,len(chunks),2):\n",
    "            try:\n",
    "                distance = hammingDistance(chunks[i],chunks[i+1])\n",
    "                distances.append(distance/keyLenght)\n",
    "            except:\n",
    "                break\n",
    "        result = {\"avgDistance\": sum(distances)/len(distances),\"key\":keyLenght} \n",
    "        averageDistances.append(result)\n",
    "    averageDistances = sorted(averageDistances, key = lambda x: x[\"avgDistance\"])\n",
    "    possibleKeyLenght = averageDistances[0][\"key\"]\n",
    "    return possibleKeyLenght\n"
   ]
  },
  {
   "attachments": {},
   "cell_type": "markdown",
   "id": "8d31a235",
   "metadata": {},
   "source": [
    "Znając długość klucza, możemy teraz podzielić wiadomość na bloki co `n` znaku. Ilość bloków wynosi tyle co długość klucza. Znaki w jednym bloku zostały zxorowane tym samym znakiem. "
   ]
  },
  {
   "cell_type": "code",
   "execution_count": 189,
   "id": "c0ad97c0",
   "metadata": {},
   "outputs": [
    {
     "data": {
      "text/plain": [
       "b'Terminator X: Bring the noise'"
      ]
     },
     "execution_count": 189,
     "metadata": {},
     "output_type": "execute_result"
    }
   ],
   "source": [
    "def xorBruteKey(ciphertext: bytes) -> bytes:\n",
    "    keyLength = findKeySize(ciphertext)\n",
    "    blocks = [[] for _ in range(keyLength)]\n",
    "\n",
    "    for index,character in enumerate(ciphertext):\n",
    "        blockIndex = index % keyLength\n",
    "        blocks[blockIndex].append(chr(character))\n",
    "    key = \"\"\n",
    "    for block in blocks:\n",
    "        key += decryptSingleByte(\"\".join(block))[2]\n",
    "    return key.encode()\n",
    "xorBruteKey(data)\n",
    "    "
   ]
  },
  {
   "attachments": {},
   "cell_type": "markdown",
   "id": "2ee3e77b",
   "metadata": {},
   "source": [
    "Mając funkcje, która znajduje klucz wystarczy jedynie odszyfrować naszą wiadomość. Tekst jawny jest tekstem piosenki, wypisuje jedynie pierwsze 160 znaków."
   ]
  },
  {
   "cell_type": "code",
   "execution_count": 199,
   "id": "c61f83b4",
   "metadata": {},
   "outputs": [
    {
     "name": "stdout",
     "output_type": "stream",
     "text": [
      "I'm back and I'm ringin' the bell \n",
      "A rockin' on the mike while the fly girls yell \n",
      "In ecstasy in the back of me \n",
      "Well that's my DJ Deshay cuttin' all them Z's \n",
      "\n"
     ]
    }
   ],
   "source": [
    "\n",
    "with open(\"6.txt\") as file:\n",
    "    data = \"\".join(file.read().splitlines())\n",
    "    data = b64decode(data)\n",
    "\n",
    "key = xorBruteKey(data)\n",
    "plaintext = xorRepeatingKey(data,key)\n",
    "print(plaintext.decode()[:160])"
   ]
  },
  {
   "attachments": {},
   "cell_type": "markdown",
   "id": "7595781f",
   "metadata": {},
   "source": [
    "### Zadanie 7\n",
    "\n",
    "Celem zadania jest użycie AES w kodzie. Dostajemy dany klucz oraz plik z szyfrogramem.\n"
   ]
  },
  {
   "cell_type": "code",
   "execution_count": 205,
   "id": "792f1da6",
   "metadata": {},
   "outputs": [],
   "source": [
    "from Crypto.Cipher import AES\n",
    "\n",
    "key = b\"YELLOW SUBMARINE\"\n",
    "aes = AES.new(key,AES.MODE_ECB)\n",
    "\n",
    "def b64_hex(text: str) -> bytes:\n",
    "    return b64decode(text.encode())\n",
    "\n",
    "with open(\"7.txt\") as file:\n",
    "    text = file.readlines()\n",
    "    text = \"\".join(text).rstrip()\n",
    "text = b64_hex(text)\n",
    "text = aes.decrypt(text)\n",
    "#print(text.decode())\n"
   ]
  },
  {
   "attachments": {},
   "cell_type": "markdown",
   "id": "91721bf8",
   "metadata": {},
   "source": [
    "### Zadanie 8\n",
    "\n",
    "Teraz, gdy już potrafimy używać AES w kodzie, musimy rozróżnić, który z szyfrogramów został zaszyfrowany trybem ECB. Bloki w trybie ECB nie wpływają na siebie, jeśli więc któryś szyfrogram zawiera takie same bloki, jest to przesłanka, że został użyty tryb szyfrowania ECB.\n",
    "\n"
   ]
  },
  {
   "cell_type": "code",
   "execution_count": 206,
   "id": "6a390c65",
   "metadata": {},
   "outputs": [
    {
     "name": "stdout",
     "output_type": "stream",
     "text": [
      "Ten szyfrogram został zaszyfrowany ECB!\n",
      " d880619740a8a19b7840a8a31c810a3d08649af70dc06f4fd5d2d69c744cd283e2dd052f6b641dbf9d11b0348542bb5708649af70dc06f4fd5d2d69c744cd2839475c9dfdbc1d46597949d9c7e82bf5a08649af70dc06f4fd5d2d69c744cd28397a93eab8d6aecd566489154789a6b0308649af70dc06f4fd5d2d69c744cd283d403180c98c8f6db1f2a3f9c4040deb0ab51b29933f2c123c58386b06fba186a\n",
      "['d880619740a8a19b7840a8a31c810a3d', '08649af70dc06f4fd5d2d69c744cd283', 'e2dd052f6b641dbf9d11b0348542bb57', '08649af70dc06f4fd5d2d69c744cd283', '9475c9dfdbc1d46597949d9c7e82bf5a', '08649af70dc06f4fd5d2d69c744cd283', '97a93eab8d6aecd566489154789a6b03', '08649af70dc06f4fd5d2d69c744cd283', 'd403180c98c8f6db1f2a3f9c4040deb0', 'ab51b29933f2c123c58386b06fba186a']\n"
     ]
    }
   ],
   "source": [
    "# Checking if every block is unique\n",
    "def unique(data: list):\n",
    "    for n in data:\n",
    "        if data.count(n)>1:\n",
    "            return 0\n",
    "    return 1\n",
    "\n",
    "with open(\"8.txt\") as file:\n",
    "    lines = file.readlines()\n",
    "data = [] \n",
    "for line in lines:\n",
    "    blocks = []\n",
    "    line = line.rstrip()\n",
    "    for i in range(0,len(line),32):\n",
    "        blocks.append(line[i:i+32])\n",
    "    if len(blocks):\n",
    "        data.append(blocks)\n",
    "for ciphertext in data:\n",
    "    if not unique(ciphertext):\n",
    "        print(\"Ten szyfrogram został zaszyfrowany ECB!\\n\",\"\".join(ciphertext))\n",
    "        print(ciphertext)\n"
   ]
  }
 ],
 "metadata": {
  "kernelspec": {
   "display_name": "Python 3 (ipykernel)",
   "language": "python",
   "name": "python3"
  },
  "language_info": {
   "codemirror_mode": {
    "name": "ipython",
    "version": 3
   },
   "file_extension": ".py",
   "mimetype": "text/x-python",
   "name": "python",
   "nbconvert_exporter": "python",
   "pygments_lexer": "ipython3",
   "version": "3.10.8"
  },
  "vscode": {
   "interpreter": {
    "hash": "e7370f93d1d0cde622a1f8e1c04877d8463912d04d973331ad4851f04de6915a"
   }
  }
 },
 "nbformat": 4,
 "nbformat_minor": 5
}
